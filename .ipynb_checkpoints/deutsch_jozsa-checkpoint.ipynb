{
 "cells": [
  {
   "cell_type": "code",
   "execution_count": null,
   "metadata": {},
   "outputs": [],
   "source": [
    "import numpy as np\n",
    "# importing Qiskit\n",
    "from qiskit import *\n",
    "\n",
    "# import basic plot tools\n",
    "from qiskit.visualization import plot_histogram"
   ]
  },
  {
   "cell_type": "code",
   "execution_count": null,
   "metadata": {},
   "outputs": [],
   "source": [
    "def generate_oracle(n, type):\n",
    "    oracle = QuantumCircuit(n + 1)\n",
    "\n",
    "    if type == 'constant':\n",
    "        output = np.random.randint(2)\n",
    "        if output == 1:\n",
    "            oracle.x(n)\n",
    "            \n",
    "    else: #the oracle is balanced\n",
    "        for qubit in range(n):\n",
    "            oracle.cx(qubit, n)\n",
    "\n",
    "    return oracle"
   ]
  },
  {
   "cell_type": "code",
   "execution_count": null,
   "metadata": {},
   "outputs": [],
   "source": [
    "def deutsch_jozsa(oracle, n):\n",
    "    dj_circuit = QuantumCircuit(n+1, n)\n",
    "    dj_circuit.x(n) #the first qubit needs to be set to |1>\n",
    "    \n",
    "    #apply a Hadamard Gate to each qubit\n",
    "    for qubit in range(n+1):\n",
    "        dj_circuit.h(qubit)\n",
    "    dj_circuit.barrier()\n",
    "    \n",
    "    #add the oracle\n",
    "    dj_circuit += oracle\n",
    "    dj_circuit.barrier()\n",
    "    \n",
    "    #apply Hadamard gates to the first n qubits\n",
    "    for qubit in range(n):\n",
    "        dj_circuit.h(qubit)\n",
    "    dj_circuit.barrier()\n",
    "    \n",
    "    #measure first n qubits\n",
    "    for index in range(n):\n",
    "        dj_circuit.measure(index, index)\n",
    "    \n",
    "    return dj_circuit\n",
    "    "
   ]
  },
  {
   "cell_type": "code",
   "execution_count": null,
   "metadata": {},
   "outputs": [],
   "source": [
    "n = 10\n",
    "oracle = generate_oracle(n, 'constant')\n",
    "oracle.draw(output='mpl')"
   ]
  },
  {
   "cell_type": "code",
   "execution_count": null,
   "metadata": {},
   "outputs": [],
   "source": [
    "circuit = deutsch_jozsa(oracle, n)\n",
    "circuit.draw(output='mpl')"
   ]
  },
  {
   "cell_type": "code",
   "execution_count": null,
   "metadata": {},
   "outputs": [],
   "source": [
    "simulator = Aer.get_backend('qasm_simulator')\n",
    "result = execute(circuit, backend=simulator, shots=10000).result()\n",
    "plot_histogram(result.get_counts(circuit))"
   ]
  },
  {
   "cell_type": "code",
   "execution_count": null,
   "metadata": {},
   "outputs": [],
   "source": []
  }
 ],
 "metadata": {
  "kernelspec": {
   "display_name": "Python 3",
   "language": "python",
   "name": "python3"
  },
  "language_info": {
   "codemirror_mode": {
    "name": "ipython",
    "version": 3
   },
   "file_extension": ".py",
   "mimetype": "text/x-python",
   "name": "python",
   "nbconvert_exporter": "python",
   "pygments_lexer": "ipython3",
   "version": "3.7.9"
  }
 },
 "nbformat": 4,
 "nbformat_minor": 4
}
